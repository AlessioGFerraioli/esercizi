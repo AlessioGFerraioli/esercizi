{
 "cells": [
  {
   "cell_type": "markdown",
   "metadata": {},
   "source": [
    "# Scikit-learn CheatSheet"
   ]
  },
  {
   "cell_type": "markdown",
   "metadata": {},
   "source": [
    "## RandomizedSearchCV\n",
    "Definire la Griglia dei Parametri per RandomizedSearchCV"
   ]
  },
  {
   "cell_type": "code",
   "execution_count": null,
   "metadata": {},
   "outputs": [],
   "source": [
    "\n",
    "# Definizione della distribuzione dei parametri\n",
    "param_dist = {\n",
    "    'pca__n_components': sp_randint(5, 13),\n",
    "    'gbc__n_estimators': sp_randint(50, 200),\n",
    "    'gbc__learning_rate': uniform(0.01, 0.2),\n",
    "    'gbc__max_depth': sp_randint(1, 5),\n",
    "    'gbc__subsample': uniform(0.6, 0.4),\n",
    "    'gbc__min_samples_split': sp_randint(2, 10),\n",
    "    'gbc__min_samples_leaf': sp_randint(1, 10),\n",
    "    'gbc__max_features': ['auto', 'sqrt', 'log2', None]\n",
    "}\n"
   ]
  },
  {
   "cell_type": "markdown",
   "metadata": {},
   "source": [
    "\n",
    "Parametri:\n",
    "\n",
    "PCA\n",
    "n_components: Numero di componenti principali da mantenere (tra 5 e 12).\n",
    "GradientBoostingClassifier\n",
    "n_estimators: Numero di alberi nella foresta (50-199).\n",
    "learning_rate: Tasso di apprendimento (0.01-0.21).\n",
    "max_depth: Profondità massima degli alberi (1-4).\n",
    "subsample: Frazione di campioni da utilizzare per costruire ogni albero (0.6-1.0).\n",
    "min_samples_split: Numero minimo di campioni richiesti per dividere un nodo (2-9).\n",
    "min_samples_leaf: Numero minimo di campioni in una foglia (1-9).\n",
    "max_features: Numero di caratteristiche da considerare per la migliore divisione.\n"
   ]
  },
  {
   "cell_type": "markdown",
   "metadata": {},
   "source": [
    "## Pipeline"
   ]
  },
  {
   "cell_type": "markdown",
   "metadata": {},
   "source": [
    "from sklearn.pipeline import Pipeline\n",
    "from sklearn.decomposition import pCA\n",
    "# importa gradient boosting classifier\n",
    "from sklearn.ensemble import GradientBoostingClassifier"
   ]
  },
  {
   "cell_type": "code",
   "execution_count": null,
   "metadata": {},
   "outputs": [],
   "source": [
    "# Creazione della pipeline\n",
    "pipeline = Pipeline([\n",
    "    ('scaler', StandardScaler()),\n",
    "    ('pca', PCA()),\n",
    "    ('gbc',\n",
    "GradientBoostingClassifier(random_state=42))\n",
    "])"
   ]
  },
  {
   "cell_type": "markdown",
   "metadata": {},
   "source": [
    "Componenti della Pipeline:\n",
    "\n",
    "StandardScaler: Standardizza le\n",
    "caratteristiche.\n",
    "PCA: Riduce la dimensionalità dei dati.\n",
    "GradientBoostingClassifier: Modello di\n",
    "classificazione basato su ensemble."
   ]
  },
  {
   "cell_type": "code",
   "execution_count": null,
   "metadata": {},
   "outputs": [],
   "source": []
  }
 ],
 "metadata": {
  "kernelspec": {
   "display_name": "Python 3",
   "language": "python",
   "name": "python3"
  },
  "language_info": {
   "codemirror_mode": {
    "name": "ipython",
    "version": 3
   },
   "file_extension": ".py",
   "mimetype": "text/x-python",
   "name": "python",
   "nbconvert_exporter": "python",
   "pygments_lexer": "ipython3",
   "version": "3.13.0"
  }
 },
 "nbformat": 4,
 "nbformat_minor": 2
}
